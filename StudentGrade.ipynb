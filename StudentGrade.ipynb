{
 "cells": [
  {
   "cell_type": "code",
   "execution_count": 9,
   "id": "aa78236c",
   "metadata": {},
   "outputs": [
    {
     "name": "stdout",
     "output_type": "stream",
     "text": [
      "[99, 99, 99, 99, 99, 99, 99, 99, 99, 99]\n",
      "Total RandomAssignments: 990\n",
      "30% of Assignment marks: 29.7\n",
      "Total ProjectMarks: 286\n",
      "60% of 3 project marks: 57.2\n",
      "Attendance Percentage 9.333333333333332\n",
      "Total marks 96.23333333333333\n",
      "Grade A-\n"
     ]
    }
   ],
   "source": [
    "import random\n",
    "assignments = [98,99,99,54,98,32,98,98,45,99,99,99,99,58,99,99,99,99,99,67,99,99,99,99,99,99,99,99,99,99]\n",
    "projects=[89,99,98]\n",
    "attendance=[\"p\",\"ab\",\"p\",\"p\",\"p\",\"p\",\"p\",\"p\",\"p\",\"p\",\"p\",\"p\",\"p\",\"p\",\"p\"]\n",
    "RandomAssignments=0\n",
    "ProjectMarks=0\n",
    "att=0\n",
    "x=random.sample(assignments,10)  #To select 10 values randomly from the list\n",
    "print(x)\n",
    "for ele in range(0, len(x)):     \n",
    "    RandomAssignments = RandomAssignments + x[ele]  #To select values from 0-30\n",
    "print(\"Total RandomAssignments:\",RandomAssignments)\n",
    "aMarks= (((RandomAssignments/10)*30)/100)  #Average of the random values from the list\n",
    "print(\"30% of Assignment marks:\", aMarks)\n",
    "for ele in range(0, len(projects)):        \n",
    "    ProjectMarks = ProjectMarks + projects[ele]  #To select projects\n",
    "print(\"Total ProjectMarks:\",ProjectMarks) \n",
    "pMarks=(((ProjectMarks/3)*60)/100)    # Average of 3 projects 20% each total 60%\n",
    "print(\"60% of 3 project marks:\",pMarks)\n",
    "for ele in attendance:\n",
    "    if ele==\"p\":                           \n",
    "        att=att+100        #Attendance calculation of 15days\n",
    "attpercentage=(((att/15)*10)/100)   #Attendance is 10% of course grade\n",
    "print(\"Attendance Percentage\", attpercentage)\n",
    "total=(aMarks+pMarks+attpercentage)  #Addition of assignment marks,project marks and attendance percentage\n",
    "print(\"Total marks\",total)\n",
    "if total>=97 and total<100:\n",
    "    print(\"Grade A\")\n",
    "elif total>=90 and total<96.99:\n",
    "    print(\"Grade A-\")\n",
    "elif total>=87 and total<89.99:\n",
    "    print(\"Grade B+\") \n",
    "elif total>=84 and total<86.99:\n",
    "    print(\"Grade B\")\n",
    "elif total>=80 and total<83.99:\n",
    "    print(\"Grade B-\")\n",
    "elif total>=77 and total<79.99:\n",
    "    print(\"Grade C+\")\n",
    "elif total>=74 and total<76.99:\n",
    "    print(\"Grade C\")\n",
    "elif total>=70 and total<73.99:\n",
    "    print(\"Grade C-\")\n",
    "elif total>=60 and total<69:\n",
    "    print(\"Grade D\")\n",
    "else: \n",
    "    print(\"Grade F\")\n",
    "\n",
    "\n",
    "\n",
    "\n"
   ]
  }
 ],
 "metadata": {
  "kernelspec": {
   "display_name": "Python 3",
   "language": "python",
   "name": "python3"
  },
  "language_info": {
   "codemirror_mode": {
    "name": "ipython",
    "version": 3
   },
   "file_extension": ".py",
   "mimetype": "text/x-python",
   "name": "python",
   "nbconvert_exporter": "python",
   "pygments_lexer": "ipython3",
   "version": "3.8.8"
  }
 },
 "nbformat": 4,
 "nbformat_minor": 5
}
